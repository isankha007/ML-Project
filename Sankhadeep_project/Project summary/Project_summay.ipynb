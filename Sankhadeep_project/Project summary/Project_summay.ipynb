{
 "cells": [
  {
   "cell_type": "markdown",
   "metadata": {},
   "source": [
    "#  Employee Performance Analysis - INX Future Inc"
   ]
  },
  {
   "cell_type": "markdown",
   "metadata": {},
   "source": [
    "      \n",
    "    Candidate Name      : Sankhadeep Chatterjee\n",
    "    E-Mail              : sankhadeep2007@gmail.com\n",
    "    Module              : Certified Data Scientist - Project\n",
    "    Exam Format         : Open Project- IABAC™ Project Submission\n",
    "# <brc>"
   ]
  },
  {
   "cell_type": "markdown",
   "metadata": {},
   "source": [
    "# Project Summary\n",
    "\n",
    "The Data science project which is given here is an analysis of employee performance form INX Furture Inc. The project goal is to find the performance rating of the employees from each feature of their data such as total work experience, gender, department, current role..etc. The Goal and Insights of the project as follows,\n",
    "\n",
    "1. Department wise performances\n",
    "2. Top 3 Important Factors affecting employee performance\n",
    "3. A trained model which can predict the employee performance based on factors as inputs. This will be used to hire employees\n",
    "4. Recommendations to improve the employee performance based on insights from analysis.\n",
    "\n",
    "The given data of employees has the 1200 data to perform a higher level machine learning where it is well structured. The features present in the data are 28 in total. The Shape of the data is 1200x28. The 28 features are classified into quantitative and qualitative where 16 features are qualitative and 11 features are quantitative. The employee ID data is alphanumerical data which doesn't play a role as a relevant feature for performance rating.\n",
    "\n",
    "The dataset is a complete labelled data and categorical which decides the machine learning algorithm to be used. The important aspects of the data are depending on the correlation of data between features and performance rating. The analysis of the project has gone through the stage of distribution analysis, correlation analysis and analysis by each department to satisfy the project goal.\n",
    "\n",
    "The machine learning model which are used in this project are Logistic regression ,Decision Tree with GridSearchCV ,XGBoost Classifier ,Random Forest Classifier,Gradient Boosted Classifier.In those models XGBoost Classifier which predicted the nearby higher accuracy of 92%. Since it is categorical labelled data, it has to go through the classifier machine learning techniques which will be suitable for this structured data. The numerical features are the most relevant in the model according to correlation technique. \n",
    "\n",
    "One of the goals of this project is to find the important feature affecting the performance rating. The important features were predicted using the machine learning model feature importance technique.  The main technique used in the preprocessing data using the one hot encoding method to convert the string-categorical data into numerical data, because, the most of machine learning methods are based on numerical methods where strings are not supportive. The overall project was performed and achieved the goals by using the machine learning model and visualization techniques. "
   ]
  },
  {
   "cell_type": "markdown",
   "metadata": {},
   "source": [
    "# 1.Requirement"
   ]
  },
  {
   "cell_type": "markdown",
   "metadata": {},
   "source": [
    "INX Future Inc , (referred as INX ) , is one of the leading data analytics and automation solutions provider with over 15 years of global business presence. INX is consistently rated as top 20 best employers past 5 years.\n",
    "CEO Mr. Brain decided to initiate a data science project , which analyses the current employee data and find the core underlying causes of this performance issues."
   ]
  },
  {
   "cell_type": "markdown",
   "metadata": {},
   "source": [
    "## 2. Analysis"
   ]
  },
  {
   "cell_type": "markdown",
   "metadata": {},
   "source": [
    "Data were analyzed by describing the features present in the data. the features play the bigger part in the analysis. the features tell the relation between the dependent and independent variables. Pandas also help to describe the datasets answering following questions early in our project. The futures present in the data are divided into numerical and categorical data. \n",
    "\n",
    "###  Categorical  Features\n",
    "These values classify the samples into sets of similar samples. Within categorical features are the values nominal, ordinal, ratio, or interval based. The categorical features as follows, \n",
    "\n",
    "- Gender\n",
    "- EducationBackground\n",
    "- MaritalStatus\n",
    "- EmpDepartment\n",
    "- EmpJobRole\n",
    "- BusinessTravelFrequency\n",
    "- EmpEducationLevel\n",
    "- EmpEnvironmentSatisfaction\n",
    "- EmpJobInvolvement\n",
    "- EmpJobLevel\n",
    "- EmpJobSatisfaction\n",
    "- OverTime\n",
    "- EmpRelationshipSatisfaction\n",
    "- EmpWorkLifeBalance\n",
    "- Attrition\n",
    "- PerformanceRating\n",
    "\n",
    "\n",
    "###  Numerical Features \n",
    "These values change from sample to sample. Within numerical features are the values discrete, continuous, or timeseries based. The Numerical Features as follows, \n",
    "\n",
    "- Age\n",
    "- DistanceFromHome\n",
    "- EmpHourlyRate\n",
    "- NumCompaniesWorked\n",
    "- EmpLastSalaryHikePercent\n",
    "- TotalWorkExperienceInYears\n",
    "- TrainingTimesLastYear\n",
    "- ExperienceYearsAtThisCompany\n",
    "- ExperienceYearsInCurrentRole\n",
    "- YearsSinceLastPromotion\n",
    "- YearsWithCurrManager"
   ]
  },
  {
   "cell_type": "markdown",
   "metadata": {},
   "source": [
    "## Analysis by Visualization\n",
    "we can able to perform the analysis by the visualisation of the data in two forms here in this project. One is by distributing the data and visualize using the density plotting. The other one is nothing but the correlation method which will visualise the correlation heat map and we can able to achieve the correlation values between the numerical features. \n",
    "\n",
    "### (i) Distribution Plot\n",
    "In general, one of the first few steps in exploring the data would be to have a rough idea of how the features are distributed with one another. To do so, we shall invoke the familiar kdeplot function from the Seaborn plotting library. The distribution has been done by both numerical and categorical features. it will show the overall idea about the density and majority of data present in a different level.  \n",
    "\n",
    "### (ii) Correlation Plot\n",
    "The next tool in a data explorer's arsenal is that of a correlation matrix. By plotting a correlation matrix, we have a very nice overview of how the features are related to one another. For a Pandas data frame, we can conveniently use the call .corr which by default provides the Pearson Correlation values of the columns pairwise in that data frame. The correlation works bet for numerical data where we are going to use all the numerical features present in the data. \n",
    "\n",
    "from this distribution we can derive the facts as follows, \n",
    "- The Total years of experience and job level are having the higher correlation when comparing to all features.\n",
    "\n",
    "- Experience years at this company and years with the current manager has the second higher relation between these features.\n",
    "\n",
    "- Experience years at this company and experience in the current role makes the sense of correlation.\n",
    "\n",
    "- People who have more experience with the company has the more probability to get the promotion from the correlation between them.\n",
    "\n",
    "- In this plot, the age has the important role in the total number of work experience of an employee where it is a universal truth.\n",
    "\n",
    "### Machine Learning Model \n",
    "The machine learning models used in this project are\n",
    "\n",
    "\n",
    "- 1.Random Forest classifier \n",
    "- 2.XGBoost Classifier\n",
    "- 3.Gradient Boosted Classifier\n",
    "\n",
    "\n",
    "Both machine learning algorithms are best for classification and labelled data. The train and test data are divided and fitted into the model and passed through the machine learning. Since we have already noted the severe imbalance in the values within the target variable, we implement the SMOTE method in the dealing with this skewed value via the learn Python package. The predicted data and test data achieved the accuracy rate of, \n",
    "\n",
    "-  Random Forest classifier: 90.91%\n",
    "-  XGBoost Classifier: 92%\n",
    "-  Gradient Boosted Classifier:90.83%"
   ]
  },
  {
   "cell_type": "markdown",
   "metadata": {},
   "source": [
    "## 3. Summary\n",
    "### Goal 1: Department wise performances\n",
    "\n",
    "In department wise performance, we have to analyze the data from each department present in the category. The data frame has to be separated or sliced according to department wise. In Employee department feature there are six departments available. The performance  analysis by the department as follows,\n",
    "\n",
    "- **Sales**:  The Performace rating level 2 is more in the sales department. The male performance rating the little bit higher compared to female. \n",
    " \n",
    "- **Human Resources**:  The majority of the employees lying under the level 2 performance. The older people are performing low in this department. The female employees in HR department doing really well in their performance.  \n",
    "\n",
    "- **Development**:  The largest number of employees are level 3 performers.  \n",
    "- **Data Science**:  The highest average of level 3 performance is in data science department. \n",
    "\n",
    "- **Research & Development**: The largest number of employees are level 2 performers. \n",
    "\n",
    "- **Finance**:  The finance department performance is exponentially decreasing when age increases. The male employees are doing good. \n",
    "\n",
    "### A Trained model which can predict the employee performance\n",
    "\n",
    "The trained model is created using the machine learning algorithm as follows with the accuracy score, \n",
    "- Random Forest classifier: 92% accuracy\n",
    "- Gradient boosted Classifier: 91% accuracy\n"
   ]
  },
  {
   "cell_type": "code",
   "execution_count": null,
   "metadata": {},
   "outputs": [],
   "source": []
  },
  {
   "cell_type": "code",
   "execution_count": null,
   "metadata": {},
   "outputs": [],
   "source": []
  },
  {
   "cell_type": "code",
   "execution_count": null,
   "metadata": {},
   "outputs": [],
   "source": []
  }
 ],
 "metadata": {
  "kernelspec": {
   "display_name": "Python 3",
   "language": "python",
   "name": "python3"
  },
  "language_info": {
   "codemirror_mode": {
    "name": "ipython",
    "version": 3
   },
   "file_extension": ".py",
   "mimetype": "text/x-python",
   "name": "python",
   "nbconvert_exporter": "python",
   "pygments_lexer": "ipython3",
   "version": "3.7.3"
  }
 },
 "nbformat": 4,
 "nbformat_minor": 2
}
