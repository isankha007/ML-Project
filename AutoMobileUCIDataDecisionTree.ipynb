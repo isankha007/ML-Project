{
 "cells": [
  {
   "cell_type": "code",
   "execution_count": 12,
   "metadata": {},
   "outputs": [],
   "source": [
    "import pandas as pd\n",
    "import numpy as np"
   ]
  },
  {
   "cell_type": "code",
   "execution_count": 13,
   "metadata": {},
   "outputs": [],
   "source": [
    "data = pd.read_csv('imports-85.data',header=None,skipinitialspace=True)\n",
    "# data.head()"
   ]
  },
  {
   "cell_type": "code",
   "execution_count": 14,
   "metadata": {},
   "outputs": [],
   "source": [
    "data.columns = ['symboling','normalized_losses','make','fuel_type','aspiration',\n",
    "               'num_of_doors','body_style','drive_wheels',\n",
    "               'engine_location','wheel_base','length','width','height',\n",
    "               'curb_weight','engine_type','num_of_cylinders','engine_size','fuel_system','bore','stroke',\n",
    "                'compression_ratio','horsepower','peak_rpm','city_mpg','highway_mpg','price']\n",
    "# data.head()"
   ]
  },
  {
   "cell_type": "code",
   "execution_count": 15,
   "metadata": {},
   "outputs": [
    {
     "name": "stdout",
     "output_type": "stream",
     "text": [
      "<class 'pandas.core.frame.DataFrame'>\n",
      "RangeIndex: 205 entries, 0 to 204\n",
      "Data columns (total 26 columns):\n",
      "symboling            205 non-null int64\n",
      "normalized_losses    205 non-null object\n",
      "make                 205 non-null object\n",
      "fuel_type            205 non-null object\n",
      "aspiration           205 non-null object\n",
      "num_of_doors         205 non-null object\n",
      "body_style           205 non-null object\n",
      "drive_wheels         205 non-null object\n",
      "engine_location      205 non-null object\n",
      "wheel_base           205 non-null float64\n",
      "length               205 non-null float64\n",
      "width                205 non-null float64\n",
      "height               205 non-null float64\n",
      "curb_weight          205 non-null int64\n",
      "engine_type          205 non-null object\n",
      "num_of_cylinders     205 non-null object\n",
      "engine_size          205 non-null int64\n",
      "fuel_system          205 non-null object\n",
      "bore                 205 non-null object\n",
      "stroke               205 non-null object\n",
      "compression_ratio    205 non-null float64\n",
      "horsepower           205 non-null object\n",
      "peak_rpm             205 non-null object\n",
      "city_mpg             205 non-null int64\n",
      "highway_mpg          205 non-null int64\n",
      "price                205 non-null object\n",
      "dtypes: float64(5), int64(5), object(16)\n",
      "memory usage: 41.7+ KB\n"
     ]
    }
   ],
   "source": [
    "data.info()"
   ]
  },
  {
   "cell_type": "code",
   "execution_count": 16,
   "metadata": {},
   "outputs": [],
   "source": [
    "# data.replace('?',np.nan).isnull().sum()\n",
    "data.num_of_doors=data.num_of_doors.replace('?',\"\",inplace=True)\n",
    "# data = data[data.num_of_doors != '?']\n",
    "data.replace('?',0,inplace=True)"
   ]
  },
  {
   "cell_type": "code",
   "execution_count": 17,
   "metadata": {},
   "outputs": [],
   "source": [
    "data.normalized_losses = data.normalized_losses.astype('float')\n",
    "data.price = data.price.astype('float')\n",
    "data.peak_rpm = data.peak_rpm.astype('float')\n",
    "data.horsepower = data.horsepower.astype('float')\n",
    "data.stroke = data.stroke.astype('float')\n",
    "data.bore = data.bore.astype('float')\n",
    "# data.info()"
   ]
  },
  {
   "cell_type": "code",
   "execution_count": 1,
   "metadata": {},
   "outputs": [],
   "source": [
    "# data.sort_values(['normalized_losses'],ascending=False)\n",
    "# data = data.reset_index()\n",
    "# data.head()"
   ]
  },
  {
   "cell_type": "code",
   "execution_count": 18,
   "metadata": {},
   "outputs": [],
   "source": [
    "from sklearn.preprocessing import LabelEncoder\n",
    "enc = LabelEncoder()\n",
    "data.make = enc.fit_transform(data.make)\n",
    "data.fuel_type = enc.fit_transform(data.fuel_type)\n",
    "data.aspiration = enc.fit_transform(data.aspiration)\n",
    "data.body_style = enc.fit_transform(data.body_style)\n",
    "data.drive_wheels = enc.fit_transform(data.drive_wheels)\n",
    "data.engine_location = enc.fit_transform(data.engine_location)\n",
    "data.engine_type = enc.fit_transform(data.engine_type)\n",
    "data.fuel_system = enc.fit_transform(data.fuel_system)\n",
    "data.num_of_cylinders = enc.fit_transform(data.num_of_cylinders)\n",
    "data.num_of_doors = enc.fit_transform(data.num_of_doors)"
   ]
  },
  {
   "cell_type": "code",
   "execution_count": 160,
   "metadata": {},
   "outputs": [],
   "source": [
    "# np.isfinite(data.all()) "
   ]
  },
  {
   "cell_type": "code",
   "execution_count": 19,
   "metadata": {},
   "outputs": [],
   "source": [
    "X= data.iloc[:,:-1]\n",
    "y=data.price\n",
    "# np.isfinite(X).all()"
   ]
  },
  {
   "cell_type": "code",
   "execution_count": 57,
   "metadata": {},
   "outputs": [],
   "source": [
    "# data.sort_values(['normalized_losses'],ascending=False)\n",
    "# data.head()"
   ]
  },
  {
   "cell_type": "code",
   "execution_count": 35,
   "metadata": {},
   "outputs": [],
   "source": [
    "from sklearn.model_selection import train_test_split\n",
    "X_train,X_test,y_train,y_test= train_test_split(X,y,test_size=0.3,random_state=10)"
   ]
  },
  {
   "cell_type": "code",
   "execution_count": 144,
   "metadata": {},
   "outputs": [],
   "source": [
    "from sklearn.tree import DecisionTreeRegressor \n",
    "model= DecisionTreeRegressor(splitter='random',max_features='sqrt',min_samples_split=4, \n",
    "                             max_depth=10,random_state=15)\n",
    "# model= DecisionTreeRegressor(max_features='sqrt',criterion='mse',\n",
    "#                              splitter='random', min_samples_split=4, max_depth=10,random_state=15)\n",
    "\n",
    "model.fit(X_train,y_train)\n",
    "y_predict = model.predict(X_test)"
   ]
  },
  {
   "cell_type": "code",
   "execution_count": 143,
   "metadata": {},
   "outputs": [
    {
     "data": {
      "text/plain": [
       "0.7961404087772772"
      ]
     },
     "execution_count": 143,
     "metadata": {},
     "output_type": "execute_result"
    }
   ],
   "source": [
    "from sklearn.metrics import r2_score\n",
    "r2_score(y_test,y_predict)"
   ]
  },
  {
   "cell_type": "code",
   "execution_count": null,
   "metadata": {},
   "outputs": [],
   "source": []
  },
  {
   "cell_type": "code",
   "execution_count": null,
   "metadata": {},
   "outputs": [],
   "source": []
  }
 ],
 "metadata": {
  "kernelspec": {
   "display_name": "Python 3",
   "language": "python",
   "name": "python3"
  },
  "language_info": {
   "codemirror_mode": {
    "name": "ipython",
    "version": 3
   },
   "file_extension": ".py",
   "mimetype": "text/x-python",
   "name": "python",
   "nbconvert_exporter": "python",
   "pygments_lexer": "ipython3",
   "version": "3.7.3"
  }
 },
 "nbformat": 4,
 "nbformat_minor": 2
}
