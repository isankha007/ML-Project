{
 "cells": [
  {
   "cell_type": "code",
   "execution_count": 1,
   "metadata": {},
   "outputs": [
    {
     "name": "stderr",
     "output_type": "stream",
     "text": [
      "/Users/sankhadeepchatterjee/anaconda3/lib/python3.7/importlib/_bootstrap.py:219: RuntimeWarning: numpy.ufunc size changed, may indicate binary incompatibility. Expected 192 from C header, got 216 from PyObject\n",
      "  return f(*args, **kwds)\n",
      "/Users/sankhadeepchatterjee/anaconda3/lib/python3.7/importlib/_bootstrap.py:219: RuntimeWarning: numpy.ufunc size changed, may indicate binary incompatibility. Expected 192 from C header, got 216 from PyObject\n",
      "  return f(*args, **kwds)\n"
     ]
    }
   ],
   "source": [
    "import pandas as pd\n",
    "import numpy as np"
   ]
  },
  {
   "cell_type": "code",
   "execution_count": 2,
   "metadata": {},
   "outputs": [],
   "source": [
    "data = pd.read_csv('imports-85.data',header=None,skipinitialspace=True)\n",
    "# data.head()"
   ]
  },
  {
   "cell_type": "code",
   "execution_count": 3,
   "metadata": {},
   "outputs": [],
   "source": [
    "data.columns = ['symboling','normalized_losses','make','fuel_type','aspiration',\n",
    "               'num_of_doors','body_style','drive_wheels',\n",
    "               'engine_location','wheel_base','length','width','height',\n",
    "               'curb_weight','engine_type','num_of_cylinders','engine_size','fuel_system','bore','stroke',\n",
    "                'compression_ratio','horsepower','peak_rpm','city_mpg','highway_mpg','price']\n",
    "# data.head()\n",
    "# data.info()"
   ]
  },
  {
   "cell_type": "code",
   "execution_count": 4,
   "metadata": {},
   "outputs": [],
   "source": [
    "# data.replace('?',np.nan).isnull().sum()\n",
    "data.num_of_doors=data.num_of_doors.replace('?',\"\",inplace=True)\n",
    "# data = data[data.num_of_doors != '?']\n",
    "data.replace('?',0,inplace=True)"
   ]
  },
  {
   "cell_type": "code",
   "execution_count": 5,
   "metadata": {},
   "outputs": [],
   "source": [
    "data.normalized_losses = data.normalized_losses.astype('float')\n",
    "data.price = data.price.astype('float')\n",
    "data.peak_rpm = data.peak_rpm.astype('float')\n",
    "data.horsepower = data.horsepower.astype('float')\n",
    "data.stroke = data.stroke.astype('float')\n",
    "data.bore = data.bore.astype('float')\n",
    "# data.info()"
   ]
  },
  {
   "cell_type": "code",
   "execution_count": 1,
   "metadata": {},
   "outputs": [],
   "source": [
    "# data.sort_values(['normalized_losses'],ascending=False)\n",
    "# data = data.reset_index()\n",
    "# data.head()"
   ]
  },
  {
   "cell_type": "code",
   "execution_count": 6,
   "metadata": {},
   "outputs": [],
   "source": [
    "from sklearn.preprocessing import LabelEncoder\n",
    "enc = LabelEncoder()\n",
    "data.make = enc.fit_transform(data.make)\n",
    "data.fuel_type = enc.fit_transform(data.fuel_type)\n",
    "data.aspiration = enc.fit_transform(data.aspiration)\n",
    "data.body_style = enc.fit_transform(data.body_style)\n",
    "data.drive_wheels = enc.fit_transform(data.drive_wheels)\n",
    "data.engine_location = enc.fit_transform(data.engine_location)\n",
    "data.engine_type = enc.fit_transform(data.engine_type)\n",
    "data.fuel_system = enc.fit_transform(data.fuel_system)\n",
    "data.num_of_cylinders = enc.fit_transform(data.num_of_cylinders)\n",
    "data.num_of_doors = enc.fit_transform(data.num_of_doors)"
   ]
  },
  {
   "cell_type": "code",
   "execution_count": 160,
   "metadata": {},
   "outputs": [],
   "source": [
    "# np.isfinite(data.all()) "
   ]
  },
  {
   "cell_type": "code",
   "execution_count": 7,
   "metadata": {},
   "outputs": [],
   "source": [
    "X= data.iloc[:,:-1]\n",
    "y=data.price\n",
    "# np.isfinite(X).all()"
   ]
  },
  {
   "cell_type": "code",
   "execution_count": 57,
   "metadata": {},
   "outputs": [],
   "source": [
    "# data.sort_values(['normalized_losses'],ascending=False)\n",
    "# data.head()"
   ]
  },
  {
   "cell_type": "code",
   "execution_count": 8,
   "metadata": {},
   "outputs": [],
   "source": [
    "from sklearn.model_selection import train_test_split\n",
    "X_train,X_test,y_train,y_test= train_test_split(X,y,test_size=0.3,random_state=10)"
   ]
  },
  {
   "cell_type": "code",
   "execution_count": 51,
   "metadata": {},
   "outputs": [],
   "source": [
    "from sklearn.ensemble import RandomForestRegressor \n",
    "model= RandomForestRegressor(max_features=2, min_samples_split=4, n_estimators=80, min_samples_leaf=3,random_state=10)\n",
    "\n",
    "model.fit(X_train,y_train)\n",
    "y_predict = model.predict(X_test)"
   ]
  },
  {
   "cell_type": "code",
   "execution_count": 50,
   "metadata": {},
   "outputs": [
    {
     "data": {
      "text/plain": [
       "0.6616430882311559"
      ]
     },
     "execution_count": 50,
     "metadata": {},
     "output_type": "execute_result"
    }
   ],
   "source": [
    "from sklearn.metrics import r2_score\n",
    "r2_score(y_test,y_predict)"
   ]
  },
  {
   "cell_type": "code",
   "execution_count": null,
   "metadata": {},
   "outputs": [],
   "source": []
  },
  {
   "cell_type": "code",
   "execution_count": null,
   "metadata": {},
   "outputs": [],
   "source": []
  }
 ],
 "metadata": {
  "kernelspec": {
   "display_name": "Python 3",
   "language": "python",
   "name": "python3"
  },
  "language_info": {
   "codemirror_mode": {
    "name": "ipython",
    "version": 3
   },
   "file_extension": ".py",
   "mimetype": "text/x-python",
   "name": "python",
   "nbconvert_exporter": "python",
   "pygments_lexer": "ipython3",
   "version": "3.7.3"
  }
 },
 "nbformat": 4,
 "nbformat_minor": 2
}
