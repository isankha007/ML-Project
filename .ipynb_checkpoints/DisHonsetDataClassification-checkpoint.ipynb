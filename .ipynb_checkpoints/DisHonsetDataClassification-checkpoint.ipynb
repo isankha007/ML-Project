{
 "cells": [
  {
   "cell_type": "code",
   "execution_count": 26,
   "metadata": {},
   "outputs": [],
   "source": [
    "import pandas as pd\n",
    "import numpy as np\n",
    "import fileinput\n",
    "from sklearn.tree import DecisionTreeClassifier\n",
    "from sklearn.externals.six import StringIO\n",
    "from IPython.display import Image\n",
    "from sklearn.tree import export_graphviz\n",
    "import pydotplus\n",
    " \n"
   ]
  },
  {
   "cell_type": "raw",
   "metadata": {},
   "source": [
    "mountList = open(\"/usr2/py/mount.txt\", \"r\").readlines()\n",
    "newmountList = open(\"/usr2/py/newmount.txt\",\"r\").readlines()\n",
    "outputList = [item for item in mountList if \"filer\" not in item.lower()]\n",
    "outputList.extend(newmountList)\n",
    "f = open(\"/usr2/py/mount.txt\",\"w\")\n",
    "f.write(''.join(outputList))\n",
    "f.close()"
   ]
  },
  {
   "cell_type": "code",
   "execution_count": 27,
   "metadata": {},
   "outputs": [],
   "source": [
    "for line in fileinput.FileInput(\"DataSet/Dishonest Internet users dataset.txt\", inplace=1):\n",
    "    line=line.replace(\" \",\",\")\n",
    "    print(line)"
   ]
  },
  {
   "cell_type": "code",
   "execution_count": 28,
   "metadata": {},
   "outputs": [
    {
     "data": {
      "text/plain": [
       "(322, 5)"
      ]
     },
     "execution_count": 28,
     "metadata": {},
     "output_type": "execute_result"
    }
   ],
   "source": [
    "data = pd.read_csv('DataSet/Dishonest Internet users dataset.txt',header=None,skipinitialspace=True)\n",
    "data.shape"
   ]
  },
  {
   "cell_type": "code",
   "execution_count": 29,
   "metadata": {},
   "outputs": [
    {
     "data": {
      "text/html": [
       "<div>\n",
       "<style scoped>\n",
       "    .dataframe tbody tr th:only-of-type {\n",
       "        vertical-align: middle;\n",
       "    }\n",
       "\n",
       "    .dataframe tbody tr th {\n",
       "        vertical-align: top;\n",
       "    }\n",
       "\n",
       "    .dataframe thead th {\n",
       "        text-align: right;\n",
       "    }\n",
       "</style>\n",
       "<table border=\"1\" class=\"dataframe\">\n",
       "  <thead>\n",
       "    <tr style=\"text-align: right;\">\n",
       "      <th></th>\n",
       "      <th>CT</th>\n",
       "      <th>CU</th>\n",
       "      <th>LT</th>\n",
       "      <th>TC</th>\n",
       "      <th>TS</th>\n",
       "    </tr>\n",
       "  </thead>\n",
       "  <tbody>\n",
       "    <tr>\n",
       "      <th>0</th>\n",
       "      <td>CT_range_4</td>\n",
       "      <td>CU_range_1</td>\n",
       "      <td>LT_range_4</td>\n",
       "      <td>sport</td>\n",
       "      <td>untrustworthy</td>\n",
       "    </tr>\n",
       "    <tr>\n",
       "      <th>1</th>\n",
       "      <td>CT_range_4</td>\n",
       "      <td>CU_range_1</td>\n",
       "      <td>LT_range_4</td>\n",
       "      <td>sport</td>\n",
       "      <td>untrustworthy</td>\n",
       "    </tr>\n",
       "    <tr>\n",
       "      <th>2</th>\n",
       "      <td>CT_range_1</td>\n",
       "      <td>CU_range_4</td>\n",
       "      <td>LT_range_4</td>\n",
       "      <td>sport</td>\n",
       "      <td>trustworthy</td>\n",
       "    </tr>\n",
       "    <tr>\n",
       "      <th>3</th>\n",
       "      <td>CT_range_2</td>\n",
       "      <td>CU_range_1</td>\n",
       "      <td>LT_range_4</td>\n",
       "      <td>sport</td>\n",
       "      <td>trustworthy</td>\n",
       "    </tr>\n",
       "    <tr>\n",
       "      <th>4</th>\n",
       "      <td>CT_range_3</td>\n",
       "      <td>CU_range_1</td>\n",
       "      <td>LT_range_4</td>\n",
       "      <td>sport</td>\n",
       "      <td>trustworthy</td>\n",
       "    </tr>\n",
       "  </tbody>\n",
       "</table>\n",
       "</div>"
      ],
      "text/plain": [
       "           CT          CU          LT     TC             TS\n",
       "0  CT_range_4  CU_range_1  LT_range_4  sport  untrustworthy\n",
       "1  CT_range_4  CU_range_1  LT_range_4  sport  untrustworthy\n",
       "2  CT_range_1  CU_range_4  LT_range_4  sport    trustworthy\n",
       "3  CT_range_2  CU_range_1  LT_range_4  sport    trustworthy\n",
       "4  CT_range_3  CU_range_1  LT_range_4  sport    trustworthy"
      ]
     },
     "execution_count": 29,
     "metadata": {},
     "output_type": "execute_result"
    }
   ],
   "source": [
    "data.columns = ['CT','CU','LT','TC','TS']\n",
    "data.head()"
   ]
  },
  {
   "cell_type": "code",
   "execution_count": 32,
   "metadata": {},
   "outputs": [
    {
     "name": "stdout",
     "output_type": "stream",
     "text": [
      "<class 'pandas.core.frame.DataFrame'>\n",
      "RangeIndex: 322 entries, 0 to 321\n",
      "Data columns (total 5 columns):\n",
      "CT    322 non-null int64\n",
      "CU    322 non-null int64\n",
      "LT    322 non-null int64\n",
      "TC    322 non-null int64\n",
      "TS    322 non-null int64\n",
      "dtypes: int64(5)\n",
      "memory usage: 12.7 KB\n"
     ]
    }
   ],
   "source": [
    "data.info()"
   ]
  },
  {
   "cell_type": "code",
   "execution_count": 50,
   "metadata": {},
   "outputs": [],
   "source": [
    "# data.sort_values(['normalized_losses'],ascending=False)\n",
    "# data = data.reset_index()\n",
    "# data.head()"
   ]
  },
  {
   "cell_type": "code",
   "execution_count": 31,
   "metadata": {},
   "outputs": [],
   "source": [
    "from sklearn.preprocessing import LabelEncoder\n",
    "enc = LabelEncoder()\n",
    "data.CT = enc.fit_transform(data.CT)\n",
    "data.CU = enc.fit_transform(data.CU)\n",
    "data.LT = enc.fit_transform(data.LT)\n",
    "data.TC = enc.fit_transform(data.TC)\n",
    "data.TS = enc.fit_transform(data.TS)\n"
   ]
  },
  {
   "cell_type": "code",
   "execution_count": 52,
   "metadata": {},
   "outputs": [],
   "source": [
    "# np.isfinite(data.all()) "
   ]
  },
  {
   "cell_type": "code",
   "execution_count": 33,
   "metadata": {},
   "outputs": [],
   "source": [
    "X= data.iloc[:,:-1]\n",
    "y=data.TS\n",
    "# np.isfinite(X).all()"
   ]
  },
  {
   "cell_type": "code",
   "execution_count": 54,
   "metadata": {},
   "outputs": [],
   "source": [
    "# data.sort_values(['normalized_losses'],ascending=False)\n",
    "# data.head()"
   ]
  },
  {
   "cell_type": "code",
   "execution_count": 34,
   "metadata": {},
   "outputs": [],
   "source": [
    "from sklearn.model_selection import train_test_split\n",
    "X_train,X_test,y_train,y_test= train_test_split(X,y,test_size=0.3,random_state=10)"
   ]
  },
  {
   "cell_type": "code",
   "execution_count": 36,
   "metadata": {},
   "outputs": [],
   "source": [
    "\n",
    "model= DecisionTreeClassifier(criterion='gini', \n",
    "                             max_depth=5,random_state=15)\n",
    "\n",
    "model.fit(X_train,y_train)\n",
    "y_predict = model.predict(X_test)"
   ]
  },
  {
   "cell_type": "code",
   "execution_count": null,
   "metadata": {},
   "outputs": [],
   "source": [
    "#Visualizing\n"
   ]
  },
  {
   "cell_type": "code",
   "execution_count": null,
   "metadata": {},
   "outputs": [],
   "source": []
  },
  {
   "cell_type": "code",
   "execution_count": null,
   "metadata": {},
   "outputs": [],
   "source": []
  },
  {
   "cell_type": "code",
   "execution_count": null,
   "metadata": {},
   "outputs": [],
   "source": []
  }
 ],
 "metadata": {
  "kernelspec": {
   "display_name": "Python 3",
   "language": "python",
   "name": "python3"
  },
  "language_info": {
   "codemirror_mode": {
    "name": "ipython",
    "version": 3
   },
   "file_extension": ".py",
   "mimetype": "text/x-python",
   "name": "python",
   "nbconvert_exporter": "python",
   "pygments_lexer": "ipython3",
   "version": "3.7.3"
  }
 },
 "nbformat": 4,
 "nbformat_minor": 2
}
