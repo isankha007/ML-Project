{
 "cells": [
  {
   "cell_type": "code",
   "execution_count": 14,
   "metadata": {},
   "outputs": [],
   "source": [
    "import pandas as pd\n",
    "import numpy as np"
   ]
  },
  {
   "cell_type": "code",
   "execution_count": 16,
   "metadata": {
    "scrolled": true
   },
   "outputs": [
    {
     "data": {
      "text/html": [
       "<div>\n",
       "<style scoped>\n",
       "    .dataframe tbody tr th:only-of-type {\n",
       "        vertical-align: middle;\n",
       "    }\n",
       "\n",
       "    .dataframe tbody tr th {\n",
       "        vertical-align: top;\n",
       "    }\n",
       "\n",
       "    .dataframe thead th {\n",
       "        text-align: right;\n",
       "    }\n",
       "</style>\n",
       "<table border=\"1\" class=\"dataframe\">\n",
       "  <thead>\n",
       "    <tr style=\"text-align: right;\">\n",
       "      <th></th>\n",
       "      <th>ID</th>\n",
       "      <th>_Large_B/P_</th>\n",
       "      <th>_Large_ROE_</th>\n",
       "      <th>_Large_S/P_</th>\n",
       "      <th>_Large_Return_Rate_in_the_last_quarter_</th>\n",
       "      <th>_Large_Market_Value_</th>\n",
       "      <th>_Small_systematic_Risk</th>\n",
       "      <th>Annual_Return</th>\n",
       "      <th>Excess_Return</th>\n",
       "      <th>Systematic_Risk</th>\n",
       "      <th>Total_Risk</th>\n",
       "      <th>Abs._Win_Rate</th>\n",
       "      <th>Rel._Win_Rate</th>\n",
       "      <th>Annual_Return.1</th>\n",
       "      <th>Excess_Return.1</th>\n",
       "      <th>Systematic_Risk.1</th>\n",
       "      <th>Total_Risk.1</th>\n",
       "      <th>Abs._Win_Rate.1</th>\n",
       "      <th>Rel._Win_Rate.1</th>\n",
       "    </tr>\n",
       "  </thead>\n",
       "  <tbody>\n",
       "    <tr>\n",
       "      <th>0</th>\n",
       "      <td>1</td>\n",
       "      <td>1.0</td>\n",
       "      <td>0.0</td>\n",
       "      <td>0.0</td>\n",
       "      <td>0.0</td>\n",
       "      <td>0.0</td>\n",
       "      <td>0.0</td>\n",
       "      <td>13.90%</td>\n",
       "      <td>1.00%</td>\n",
       "      <td>1.33</td>\n",
       "      <td>14.90%</td>\n",
       "      <td>66.30%</td>\n",
       "      <td>52.50%</td>\n",
       "      <td>0.532</td>\n",
       "      <td>0.478</td>\n",
       "      <td>0.738</td>\n",
       "      <td>0.800</td>\n",
       "      <td>0.52</td>\n",
       "      <td>0.412</td>\n",
       "    </tr>\n",
       "    <tr>\n",
       "      <th>1</th>\n",
       "      <td>2</td>\n",
       "      <td>0.0</td>\n",
       "      <td>1.0</td>\n",
       "      <td>0.0</td>\n",
       "      <td>0.0</td>\n",
       "      <td>0.0</td>\n",
       "      <td>0.0</td>\n",
       "      <td>14.30%</td>\n",
       "      <td>1.00%</td>\n",
       "      <td>1.17</td>\n",
       "      <td>10.80%</td>\n",
       "      <td>66.30%</td>\n",
       "      <td>65.00%</td>\n",
       "      <td>0.550</td>\n",
       "      <td>0.488</td>\n",
       "      <td>0.572</td>\n",
       "      <td>0.412</td>\n",
       "      <td>0.52</td>\n",
       "      <td>0.765</td>\n",
       "    </tr>\n",
       "    <tr>\n",
       "      <th>2</th>\n",
       "      <td>3</td>\n",
       "      <td>0.0</td>\n",
       "      <td>0.0</td>\n",
       "      <td>1.0</td>\n",
       "      <td>0.0</td>\n",
       "      <td>0.0</td>\n",
       "      <td>0.0</td>\n",
       "      <td>17.30%</td>\n",
       "      <td>1.80%</td>\n",
       "      <td>1.30</td>\n",
       "      <td>14.40%</td>\n",
       "      <td>63.80%</td>\n",
       "      <td>51.30%</td>\n",
       "      <td>0.693</td>\n",
       "      <td>0.630</td>\n",
       "      <td>0.703</td>\n",
       "      <td>0.757</td>\n",
       "      <td>0.44</td>\n",
       "      <td>0.376</td>\n",
       "    </tr>\n",
       "    <tr>\n",
       "      <th>3</th>\n",
       "      <td>4</td>\n",
       "      <td>0.0</td>\n",
       "      <td>0.0</td>\n",
       "      <td>0.0</td>\n",
       "      <td>1.0</td>\n",
       "      <td>0.0</td>\n",
       "      <td>0.0</td>\n",
       "      <td>9.60%</td>\n",
       "      <td>-0.20%</td>\n",
       "      <td>1.39</td>\n",
       "      <td>14.40%</td>\n",
       "      <td>61.30%</td>\n",
       "      <td>47.50%</td>\n",
       "      <td>0.324</td>\n",
       "      <td>0.256</td>\n",
       "      <td>0.800</td>\n",
       "      <td>0.756</td>\n",
       "      <td>0.36</td>\n",
       "      <td>0.271</td>\n",
       "    </tr>\n",
       "    <tr>\n",
       "      <th>4</th>\n",
       "      <td>5</td>\n",
       "      <td>0.0</td>\n",
       "      <td>0.0</td>\n",
       "      <td>0.0</td>\n",
       "      <td>0.0</td>\n",
       "      <td>1.0</td>\n",
       "      <td>0.0</td>\n",
       "      <td>9.60%</td>\n",
       "      <td>0.10%</td>\n",
       "      <td>1.04</td>\n",
       "      <td>8.70%</td>\n",
       "      <td>72.50%</td>\n",
       "      <td>53.80%</td>\n",
       "      <td>0.327</td>\n",
       "      <td>0.307</td>\n",
       "      <td>0.432</td>\n",
       "      <td>0.209</td>\n",
       "      <td>0.72</td>\n",
       "      <td>0.447</td>\n",
       "    </tr>\n",
       "  </tbody>\n",
       "</table>\n",
       "</div>"
      ],
      "text/plain": [
       "   ID  _Large_B/P_  _Large_ROE_  _Large_S/P_  \\\n",
       "0   1          1.0          0.0          0.0   \n",
       "1   2          0.0          1.0          0.0   \n",
       "2   3          0.0          0.0          1.0   \n",
       "3   4          0.0          0.0          0.0   \n",
       "4   5          0.0          0.0          0.0   \n",
       "\n",
       "   _Large_Return_Rate_in_the_last_quarter_  _Large_Market_Value_  \\\n",
       "0                                      0.0                   0.0   \n",
       "1                                      0.0                   0.0   \n",
       "2                                      0.0                   0.0   \n",
       "3                                      1.0                   0.0   \n",
       "4                                      0.0                   1.0   \n",
       "\n",
       "   _Small_systematic_Risk Annual_Return Excess_Return  Systematic_Risk  \\\n",
       "0                     0.0        13.90%         1.00%             1.33   \n",
       "1                     0.0        14.30%         1.00%             1.17   \n",
       "2                     0.0        17.30%         1.80%             1.30   \n",
       "3                     0.0         9.60%        -0.20%             1.39   \n",
       "4                     0.0         9.60%         0.10%             1.04   \n",
       "\n",
       "  Total_Risk Abs._Win_Rate Rel._Win_Rate  Annual_Return.1  Excess_Return.1  \\\n",
       "0     14.90%        66.30%        52.50%            0.532            0.478   \n",
       "1     10.80%        66.30%        65.00%            0.550            0.488   \n",
       "2     14.40%        63.80%        51.30%            0.693            0.630   \n",
       "3     14.40%        61.30%        47.50%            0.324            0.256   \n",
       "4      8.70%        72.50%        53.80%            0.327            0.307   \n",
       "\n",
       "   Systematic_Risk.1  Total_Risk.1  Abs._Win_Rate.1  Rel._Win_Rate.1  \n",
       "0              0.738         0.800             0.52            0.412  \n",
       "1              0.572         0.412             0.52            0.765  \n",
       "2              0.703         0.757             0.44            0.376  \n",
       "3              0.800         0.756             0.36            0.271  \n",
       "4              0.432         0.209             0.72            0.447  "
      ]
     },
     "execution_count": 16,
     "metadata": {},
     "output_type": "execute_result"
    }
   ],
   "source": [
    "data = pd.read_csv('stock_portfolio_performance_data_set/all-period-Table 1.csv',skipinitialspace=True, skiprows=1)\n",
    "data.head()"
   ]
  },
  {
   "cell_type": "code",
   "execution_count": 12,
   "metadata": {},
   "outputs": [
    {
     "ename": "KeyError",
     "evalue": "'Large B/P'",
     "output_type": "error",
     "traceback": [
      "\u001b[0;31m---------------------------------------------------------------------------\u001b[0m",
      "\u001b[0;31mKeyError\u001b[0m                                  Traceback (most recent call last)",
      "\u001b[0;32m<ipython-input-12-5831f86a6faa>\u001b[0m in \u001b[0;36m<module>\u001b[0;34m\u001b[0m\n\u001b[0;32m----> 1\u001b[0;31m \u001b[0mdata\u001b[0m\u001b[0;34m.\u001b[0m\u001b[0msort_values\u001b[0m\u001b[0;34m(\u001b[0m\u001b[0;34m[\u001b[0m\u001b[0;34m'Large B/P'\u001b[0m\u001b[0;34m]\u001b[0m\u001b[0;34m,\u001b[0m\u001b[0mascending\u001b[0m\u001b[0;34m=\u001b[0m\u001b[0;32mFalse\u001b[0m\u001b[0;34m)\u001b[0m\u001b[0;34m\u001b[0m\u001b[0;34m\u001b[0m\u001b[0m\n\u001b[0m\u001b[1;32m      2\u001b[0m \u001b[0;31m# data = data.reset_index()\u001b[0m\u001b[0;34m\u001b[0m\u001b[0;34m\u001b[0m\u001b[0;34m\u001b[0m\u001b[0m\n\u001b[1;32m      3\u001b[0m \u001b[0;31m# data.head()\u001b[0m\u001b[0;34m\u001b[0m\u001b[0;34m\u001b[0m\u001b[0;34m\u001b[0m\u001b[0m\n",
      "\u001b[0;32m~/anaconda3/lib/python3.7/site-packages/pandas/core/frame.py\u001b[0m in \u001b[0;36msort_values\u001b[0;34m(self, by, axis, ascending, inplace, kind, na_position)\u001b[0m\n\u001b[1;32m   4717\u001b[0m \u001b[0;34m\u001b[0m\u001b[0m\n\u001b[1;32m   4718\u001b[0m             \u001b[0mby\u001b[0m \u001b[0;34m=\u001b[0m \u001b[0mby\u001b[0m\u001b[0;34m[\u001b[0m\u001b[0;36m0\u001b[0m\u001b[0;34m]\u001b[0m\u001b[0;34m\u001b[0m\u001b[0;34m\u001b[0m\u001b[0m\n\u001b[0;32m-> 4719\u001b[0;31m             \u001b[0mk\u001b[0m \u001b[0;34m=\u001b[0m \u001b[0mself\u001b[0m\u001b[0;34m.\u001b[0m\u001b[0m_get_label_or_level_values\u001b[0m\u001b[0;34m(\u001b[0m\u001b[0mby\u001b[0m\u001b[0;34m,\u001b[0m \u001b[0maxis\u001b[0m\u001b[0;34m=\u001b[0m\u001b[0maxis\u001b[0m\u001b[0;34m)\u001b[0m\u001b[0;34m\u001b[0m\u001b[0;34m\u001b[0m\u001b[0m\n\u001b[0m\u001b[1;32m   4720\u001b[0m \u001b[0;34m\u001b[0m\u001b[0m\n\u001b[1;32m   4721\u001b[0m             \u001b[0;32mif\u001b[0m \u001b[0misinstance\u001b[0m\u001b[0;34m(\u001b[0m\u001b[0mascending\u001b[0m\u001b[0;34m,\u001b[0m \u001b[0;34m(\u001b[0m\u001b[0mtuple\u001b[0m\u001b[0;34m,\u001b[0m \u001b[0mlist\u001b[0m\u001b[0;34m)\u001b[0m\u001b[0;34m)\u001b[0m\u001b[0;34m:\u001b[0m\u001b[0;34m\u001b[0m\u001b[0;34m\u001b[0m\u001b[0m\n",
      "\u001b[0;32m~/anaconda3/lib/python3.7/site-packages/pandas/core/generic.py\u001b[0m in \u001b[0;36m_get_label_or_level_values\u001b[0;34m(self, key, axis)\u001b[0m\n\u001b[1;32m   1704\u001b[0m             \u001b[0mvalues\u001b[0m \u001b[0;34m=\u001b[0m \u001b[0mself\u001b[0m\u001b[0;34m.\u001b[0m\u001b[0maxes\u001b[0m\u001b[0;34m[\u001b[0m\u001b[0maxis\u001b[0m\u001b[0;34m]\u001b[0m\u001b[0;34m.\u001b[0m\u001b[0mget_level_values\u001b[0m\u001b[0;34m(\u001b[0m\u001b[0mkey\u001b[0m\u001b[0;34m)\u001b[0m\u001b[0;34m.\u001b[0m\u001b[0m_values\u001b[0m\u001b[0;34m\u001b[0m\u001b[0;34m\u001b[0m\u001b[0m\n\u001b[1;32m   1705\u001b[0m         \u001b[0;32melse\u001b[0m\u001b[0;34m:\u001b[0m\u001b[0;34m\u001b[0m\u001b[0;34m\u001b[0m\u001b[0m\n\u001b[0;32m-> 1706\u001b[0;31m             \u001b[0;32mraise\u001b[0m \u001b[0mKeyError\u001b[0m\u001b[0;34m(\u001b[0m\u001b[0mkey\u001b[0m\u001b[0;34m)\u001b[0m\u001b[0;34m\u001b[0m\u001b[0;34m\u001b[0m\u001b[0m\n\u001b[0m\u001b[1;32m   1707\u001b[0m \u001b[0;34m\u001b[0m\u001b[0m\n\u001b[1;32m   1708\u001b[0m         \u001b[0;31m# Check for duplicates\u001b[0m\u001b[0;34m\u001b[0m\u001b[0;34m\u001b[0m\u001b[0;34m\u001b[0m\u001b[0m\n",
      "\u001b[0;31mKeyError\u001b[0m: 'Large B/P'"
     ]
    }
   ],
   "source": [
    "data.sort_values(['Large B/P'],ascending=False)\n",
    "# data = data.reset_index()\n",
    "# data.head()"
   ]
  },
  {
   "cell_type": "code",
   "execution_count": 7,
   "metadata": {},
   "outputs": [],
   "source": [
    "# data.columns = ['symboling','normalized_losses','make','fuel_type','aspiration',\n",
    "#                'num_of_doors','body_style','drive_wheels',\n",
    "#                'engine_location','wheel_base','length','width','height',\n",
    "#                'curb_weight','engine_type','num_of_cylinders','engine_size','fuel_system','bore','stroke',\n",
    "#                 'compression_ratio','horsepower','peak_rpm','city_mpg','highway_mpg','price']\n",
    "# data.head()"
   ]
  },
  {
   "cell_type": "code",
   "execution_count": 11,
   "metadata": {},
   "outputs": [
    {
     "name": "stdout",
     "output_type": "stream",
     "text": [
      "<class 'pandas.core.frame.DataFrame'>\n",
      "RangeIndex: 329 entries, 0 to 328\n",
      "Data columns (total 19 columns):\n",
      "ID                                        325 non-null object\n",
      "Large B/P                                 329 non-null object\n",
      "Large ROE                                 325 non-null object\n",
      "Large S/P                                 325 non-null object\n",
      "Large Return Rate in the last quarter     319 non-null object\n",
      "Large Market Value                        319 non-null object\n",
      "Small systematic Risk                     319 non-null object\n",
      "Annual Return                             323 non-null object\n",
      "Excess Return                             319 non-null object\n",
      "Systematic Risk                           319 non-null object\n",
      "Total Risk                                319 non-null object\n",
      "Abs. Win Rate                             319 non-null object\n",
      "Rel. Win Rate                             319 non-null object\n",
      "Annual Return.1                           323 non-null object\n",
      "Excess Return.1                           319 non-null object\n",
      "Systematic Risk.1                         319 non-null object\n",
      "Total Risk.1                              319 non-null object\n",
      "Abs. Win Rate.1                           319 non-null object\n",
      "Rel. Win Rate.1                           319 non-null object\n",
      "dtypes: object(19)\n",
      "memory usage: 48.9+ KB\n"
     ]
    }
   ],
   "source": [
    "data.info()"
   ]
  },
  {
   "cell_type": "code",
   "execution_count": 173,
   "metadata": {},
   "outputs": [],
   "source": [
    "# data.replace('?',np.nan).isnull().sum()\n",
    "data.num_of_doors=data.num_of_doors.replace('?',\"\",inplace=True)\n",
    "# data = data[data.num_of_doors != '?']\n",
    "data.replace('?',0,inplace=True)"
   ]
  },
  {
   "cell_type": "code",
   "execution_count": 174,
   "metadata": {},
   "outputs": [],
   "source": [
    "data.normalized_losses = data.normalized_losses.astype('float')\n",
    "data.price = data.price.astype('float')\n",
    "data.peak_rpm = data.peak_rpm.astype('float')\n",
    "data.horsepower = data.horsepower.astype('float')\n",
    "data.stroke = data.stroke.astype('float')\n",
    "data.bore = data.bore.astype('float')\n",
    "# data.info()"
   ]
  },
  {
   "cell_type": "code",
   "execution_count": 175,
   "metadata": {},
   "outputs": [],
   "source": [
    "from sklearn.preprocessing import LabelEncoder\n",
    "enc = LabelEncoder()\n",
    "data.make = enc.fit_transform(data.make)\n",
    "data.fuel_type = enc.fit_transform(data.fuel_type)\n",
    "data.aspiration = enc.fit_transform(data.aspiration)\n",
    "data.body_style = enc.fit_transform(data.body_style)\n",
    "data.drive_wheels = enc.fit_transform(data.drive_wheels)\n",
    "data.engine_location = enc.fit_transform(data.engine_location)\n",
    "data.engine_type = enc.fit_transform(data.engine_type)\n",
    "data.fuel_system = enc.fit_transform(data.fuel_system)\n",
    "data.num_of_cylinders = enc.fit_transform(data.num_of_cylinders)\n",
    "data.num_of_doors = enc.fit_transform(data.num_of_doors)"
   ]
  },
  {
   "cell_type": "code",
   "execution_count": 160,
   "metadata": {},
   "outputs": [],
   "source": [
    "# np.isfinite(data.all()) "
   ]
  },
  {
   "cell_type": "code",
   "execution_count": 176,
   "metadata": {},
   "outputs": [],
   "source": [
    "X= data.iloc[:,:-1]\n",
    "y=data.price\n",
    "# np.isfinite(X).all()"
   ]
  },
  {
   "cell_type": "code",
   "execution_count": 57,
   "metadata": {},
   "outputs": [],
   "source": [
    "# data.sort_values(['normalized_losses'],ascending=False)\n",
    "# data.head()"
   ]
  },
  {
   "cell_type": "code",
   "execution_count": 177,
   "metadata": {},
   "outputs": [],
   "source": [
    "from sklearn.model_selection import train_test_split\n",
    "X_train,X_test,y_train,y_test= train_test_split(X,y,test_size=0.3,random_state=10)"
   ]
  },
  {
   "cell_type": "code",
   "execution_count": 178,
   "metadata": {},
   "outputs": [],
   "source": [
    "from sklearn.linear_model import LinearRegression \n",
    "model= LinearRegression()"
   ]
  },
  {
   "cell_type": "code",
   "execution_count": 179,
   "metadata": {},
   "outputs": [
    {
     "data": {
      "text/plain": [
       "LinearRegression(copy_X=True, fit_intercept=True, n_jobs=None,\n",
       "         normalize=False)"
      ]
     },
     "execution_count": 179,
     "metadata": {},
     "output_type": "execute_result"
    }
   ],
   "source": [
    "model.fit(X_train,y_train)"
   ]
  },
  {
   "cell_type": "code",
   "execution_count": 180,
   "metadata": {},
   "outputs": [],
   "source": [
    "y_predict = model.predict(X_test)"
   ]
  },
  {
   "cell_type": "code",
   "execution_count": 181,
   "metadata": {},
   "outputs": [
    {
     "data": {
      "text/plain": [
       "0.6833500125273213"
      ]
     },
     "execution_count": 181,
     "metadata": {},
     "output_type": "execute_result"
    }
   ],
   "source": [
    "from sklearn.metrics import r2_score\n",
    "r2_score(y_test,y_predict)"
   ]
  },
  {
   "cell_type": "code",
   "execution_count": null,
   "metadata": {},
   "outputs": [],
   "source": []
  },
  {
   "cell_type": "code",
   "execution_count": null,
   "metadata": {},
   "outputs": [],
   "source": []
  }
 ],
 "metadata": {
  "kernelspec": {
   "display_name": "Python 3",
   "language": "python",
   "name": "python3"
  },
  "language_info": {
   "codemirror_mode": {
    "name": "ipython",
    "version": 3
   },
   "file_extension": ".py",
   "mimetype": "text/x-python",
   "name": "python",
   "nbconvert_exporter": "python",
   "pygments_lexer": "ipython3",
   "version": "3.7.3"
  }
 },
 "nbformat": 4,
 "nbformat_minor": 2
}
